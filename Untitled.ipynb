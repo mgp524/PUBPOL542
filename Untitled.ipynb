{
 "cells": [
  {
   "cell_type": "code",
   "execution_count": null,
   "id": "ef39f7d3",
   "metadata": {},
   "outputs": [],
   "source": [
    "from pulp import LpMaximize,LpProblem,LpVariable,LpConstraint, value\n",
    "from pulp import COIN_CMD\n",
    "from pulp import LpConstraintGE as GE\n",
    "from pulp import LpConstraintLE as LE"
   ]
  },
  {
   "cell_type": "code",
   "execution_count": null,
   "id": "7bd415b8",
   "metadata": {},
   "outputs": [],
   "source": [
    "model = LpProblem(name='airline-problem', sense=LpMaximize)"
   ]
  },
  {
   "cell_type": "code",
   "execution_count": null,
   "id": "bbfb54e4",
   "metadata": {},
   "outputs": [],
   "source": [
    "sandiego = LpVariable(name = \"San Diego\", lowBound = 0, cat = 'Continuous')\n",
    "sanfrancisco = LpVariable(name = \"San Francisco\", lowBound = 0, cat = 'Continuous')\n",
    "lasvegas = LpVariable(name = \"Las Vegas\", lowBound = 0, cat = 'Continuous')"
   ]
  },
  {
   "cell_type": "code",
   "execution_count": null,
   "id": "05a2be37",
   "metadata": {},
   "outputs": [],
   "source": [
    "obj_func = 1900*sandiego + 700*sanfrancisco + 1000*lasvegas"
   ]
  },
  {
   "cell_type": "code",
   "execution_count": null,
   "id": "9a27e352",
   "metadata": {},
   "outputs": [],
   "source": [
    "C1 = LpConstraint(name = 'Price Constraint'\n",
    "                 e = (1*sandiego + 1*sanfrancisco + 1*lasvegas)/3, sense = GE, rhs = 200)\n",
    "C2 = LpConstraint(name = 'Cost Constraint'\n",
    "                 e = (190*sandiego + 84*sanfrancisco + 140*lasvegas)/3, sense = GE, rhs = "
   ]
  }
 ],
 "metadata": {
  "kernelspec": {
   "display_name": "Python 3 (ipykernel)",
   "language": "python",
   "name": "python3"
  },
  "language_info": {
   "codemirror_mode": {
    "name": "ipython",
    "version": 3
   },
   "file_extension": ".py",
   "mimetype": "text/x-python",
   "name": "python",
   "nbconvert_exporter": "python",
   "pygments_lexer": "ipython3",
   "version": "3.9.13"
  }
 },
 "nbformat": 4,
 "nbformat_minor": 5
}
