{
 "cells": [
  {
   "cell_type": "code",
   "execution_count": null,
   "id": "1f6944cc",
   "metadata": {},
   "outputs": [],
   "source": [
    "#load pandas\n",
    "\n",
    "import pandas as pd"
   ]
  },
  {
   "cell_type": "code",
   "execution_count": null,
   "id": "6d64a129",
   "metadata": {},
   "outputs": [],
   "source": [
    "#read files\n",
    "\n",
    "gitCloudRepo='https://github.com/Drops-of-Jupyter/PUBPOL542/raw/main/'\n",
    "fileName1='distribution-human-rights-vdem.csv'\n",
    "fileName2='infectious-disease-death-rates.csv'\n",
    "fileName3='water-and-sanitation.csv'\n",
    "humrightscsv=pd.read_csv(gitCloudRepo + fileName1)\n",
    "infdeathscsv=pd.read_csv(gitCloudRepo + fileName2)\n",
    "sanitationcsv=pd.read_csv(gitCloudRepo + fileName3)"
   ]
  },
  {
   "cell_type": "code",
   "execution_count": null,
   "id": "c7c21b56",
   "metadata": {},
   "outputs": [],
   "source": [
    "# Human rights dataset\n",
    "# Remove unneeded columns\n",
    "\n",
    "humrightscsv.columns\n",
    "bye=[1,4]\n",
    "humrightscsv.drop(columns=humrightscsv.columns[bye],inplace=True)\n",
    "humrightscsv.columns"
   ]
  },
  {
   "cell_type": "code",
   "execution_count": null,
   "id": "3408ff91",
   "metadata": {},
   "outputs": [],
   "source": [
    "# Filter rows to years 2015 - 2019\n",
    "\n",
    "humrightscsv = humrightscsv[(humrightscsv['Year'] >= 2015) & (humrightscsv['Year'] <= 2019)]\n",
    "humrightscsv.head()"
   ]
  },
  {
   "cell_type": "code",
   "execution_count": null,
   "id": "20de5c29",
   "metadata": {},
   "outputs": [],
   "source": [
    "humrightscsv.columns.str.replace(pat=\"civ_libs_vdem_owid\", \n",
    "                                 repl=\"VDEM\", \n",
    "                                 regex=True)\n",
    "humrightscsv.columns=humrightscsv.columns.str.replace(\"civ_libs_vdem_owid\",\n",
    "                                                      \"VDEM\",\n",
    "                                                      regex=True)\n",
    "humrightscsv.columns"
   ]
  },
  {
   "cell_type": "code",
   "execution_count": null,
   "id": "6f4fdcb7",
   "metadata": {},
   "outputs": [],
   "source": [
    "humrightscsv.columns.str.replace(pat=\"Entity\", \n",
    "                                 repl=\"Country\", \n",
    "                                 regex=True)\n",
    "humrightscsv.columns=humrightscsv.columns.str.replace(\"Entity\",\n",
    "                                                      \"Country\",\n",
    "                                                      regex=True)"
   ]
  },
  {
   "cell_type": "code",
   "execution_count": null,
   "id": "bb6e0865",
   "metadata": {},
   "outputs": [],
   "source": [
    "humrightscsv=humrightscsv.reset_index(drop=True)\n",
    "humrightscsv.head()"
   ]
  },
  {
   "cell_type": "code",
   "execution_count": null,
   "id": "e53effbb",
   "metadata": {},
   "outputs": [],
   "source": [
    "humrightscsv.iloc[:,:2]"
   ]
  },
  {
   "cell_type": "code",
   "execution_count": null,
   "id": "636f37f2",
   "metadata": {},
   "outputs": [],
   "source": [
    "# Sanitations dataset\n",
    "sanitationcsv.head()"
   ]
  },
  {
   "cell_type": "code",
   "execution_count": null,
   "id": "0e67418a",
   "metadata": {},
   "outputs": [],
   "source": [
    "sanitationcsv = sanitationcsv[[\n",
    "    'Entity',\n",
    "    'Year',\n",
    "    'Access to limited drinking water',\n",
    "    'Access to limited sanitation services',\n",
    "    'Access to limited handwashing facilities',\n",
    "    'Number with access to limited drinking water',\n",
    "    'Number with access to limited sanitation services',\n",
    "    'Number with access to limited handwashing facilities',\n",
    "]]"
   ]
  },
  {
   "cell_type": "code",
   "execution_count": null,
   "id": "f504bd6a",
   "metadata": {},
   "outputs": [],
   "source": [
    "sanitationcsv.head()"
   ]
  },
  {
   "cell_type": "code",
   "execution_count": null,
   "id": "39c8f3b4",
   "metadata": {},
   "outputs": [],
   "source": [
    "sanitationcsv = sanitationcsv[(sanitationcsv['Year'] >= 2015) & (sanitationcsv['Year'] <= 2019)]\n",
    "sanitationcsv.head()"
   ]
  },
  {
   "cell_type": "code",
   "execution_count": null,
   "id": "1a0058f5",
   "metadata": {},
   "outputs": [],
   "source": [
    "sanitationcsv=sanitationcsv.reset_index(drop=True)\n",
    "sanitationcsv.head()"
   ]
  },
  {
   "cell_type": "code",
   "execution_count": null,
   "id": "97f8034f",
   "metadata": {},
   "outputs": [],
   "source": [
    "sanitationcsv.columns.str.replace(pat=\"Access to limited drinking water\", \n",
    "                                  repl=\"LDW\", \n",
    "                                  regex=True)\n",
    "sanitationcsv.columns=sanitationcsv.columns.str.replace(\"Access to limited drinking water\",\n",
    "                                                        \"LDW\",\n",
    "                                                        regex=True)"
   ]
  },
  {
   "cell_type": "code",
   "execution_count": null,
   "id": "f6774a67",
   "metadata": {},
   "outputs": [],
   "source": [
    "sanitationcsv.columns.str.replace(pat=\"Access to limited sanitation services\", \n",
    "                                  repl=\"LSS\", \n",
    "                                  regex=True)\n",
    "sanitationcsv.columns=sanitationcsv.columns.str.replace(\"Access to limited sanitation services\",\n",
    "                                                        \"LSS\",\n",
    "                                                        regex=True)"
   ]
  },
  {
   "cell_type": "code",
   "execution_count": null,
   "id": "57bb2822",
   "metadata": {},
   "outputs": [],
   "source": [
    "sanitationcsv.columns.str.replace(pat=\"Access to limited handwashing facilities\", \n",
    "                                  repl=\"LHF\", \n",
    "                                  regex=True)\n",
    "sanitationcsv.columns=sanitationcsv.columns.str.replace(\"Access to limited handwashing facilities\",\n",
    "                                                        \"LHF\",\n",
    "                                                        regex=True)"
   ]
  },
  {
   "cell_type": "code",
   "execution_count": null,
   "id": "5cb5d625",
   "metadata": {},
   "outputs": [],
   "source": [
    "sanitationcsv.columns.str.replace(pat=\"Number with access to limited drinking water\", \n",
    "                                  repl=\"#LDW\", \n",
    "                                  regex=True)\n",
    "sanitationcsv.columns=sanitationcsv.columns.str.replace(\"Number with access to limited drinking water\",\n",
    "                                                        \"#LDW\",\n",
    "                                                        regex=True)"
   ]
  },
  {
   "cell_type": "code",
   "execution_count": null,
   "id": "1c9f5b20",
   "metadata": {},
   "outputs": [],
   "source": [
    "sanitationcsv.columns.str.replace(pat=\"Number with access to limited sanitation services\", \n",
    "                                  repl=\"#LSS\", \n",
    "                                  regex=True)\n",
    "sanitationcsv.columns=sanitationcsv.columns.str.replace(\"Number with access to limited sanitation services\",\n",
    "                                                        \"#LSS\",\n",
    "                                                        regex=True)"
   ]
  },
  {
   "cell_type": "code",
   "execution_count": null,
   "id": "79e6427e",
   "metadata": {},
   "outputs": [],
   "source": [
    "sanitationcsv.columns.str.replace(pat=\"Number with access to limited handwashing facilities\", \n",
    "                                  repl=\"#LHF\", \n",
    "                                  regex=True)\n",
    "sanitationcsv.columns=sanitationcsv.columns.str.replace(\"Number with access to limited handwashing facilities\",\n",
    "                                                        \"#LHF\",\n",
    "                                                        regex=True)"
   ]
  },
  {
   "cell_type": "code",
   "execution_count": null,
   "id": "d347192b",
   "metadata": {},
   "outputs": [],
   "source": [
    "sanitationcsv.columns.str.replace(pat=\"Entity\", \n",
    "                                  repl=\"Country\", \n",
    "                                  regex=True)\n",
    "sanitationcsv.columns=sanitationcsv.columns.str.replace(\"Entity\",\n",
    "                                                        \"Country\",\n",
    "                                                        regex=True)"
   ]
  },
  {
   "cell_type": "code",
   "execution_count": null,
   "id": "c0fc6519",
   "metadata": {},
   "outputs": [],
   "source": [
    "sanitationcsv.head()"
   ]
  },
  {
   "cell_type": "code",
   "execution_count": null,
   "id": "0f0d96c4",
   "metadata": {},
   "outputs": [],
   "source": [
    "sanitationcsv.iloc[:,:2]"
   ]
  },
  {
   "cell_type": "code",
   "execution_count": null,
   "id": "7c84a105",
   "metadata": {},
   "outputs": [],
   "source": [
    "infdeathscsv.head()"
   ]
  },
  {
   "cell_type": "code",
   "execution_count": null,
   "id": "ab80060b",
   "metadata": {},
   "outputs": [],
   "source": [
    "infdeathscsv = infdeathscsv[(infdeathscsv['Year'] >= 2015) & (infdeathscsv['Year'] <= 2019)]\n",
    "infdeathscsv.head()"
   ]
  },
  {
   "cell_type": "code",
   "execution_count": null,
   "id": "fb074875",
   "metadata": {},
   "outputs": [],
   "source": [
    "infdeathscsv.columns\n",
    "bye=[1]\n",
    "infdeathscsv.drop(columns=infdeathscsv.columns[bye],inplace=True)\n",
    "infdeathscsv.columns"
   ]
  },
  {
   "cell_type": "code",
   "execution_count": null,
   "id": "83d6cbc9",
   "metadata": {},
   "outputs": [],
   "source": [
    "infdeathscsv.columns.str.replace(pat=\"Deaths - Infectious diseases - OWID - Sex: Both - Age: Age-standardized (Rate)\", \n",
    "                                 repl=\"Death Rate\", \n",
    "                                 regex=True)\n",
    "infdeathscsv.columns=infdeathscsv.columns.str.replace(\"Deaths - Infectious diseases - OWID - Sex: Both - Age: Age-standardized (Rate)\",\n",
    "                                                      \"Death Rate\",\n",
    "                                                      regex=True)"
   ]
  },
  {
   "cell_type": "code",
   "execution_count": null,
   "id": "0cc9ee37",
   "metadata": {},
   "outputs": [],
   "source": [
    "infdeathscsv.columns.str.replace(pat=\"Entity\", \n",
    "                                 repl=\"Country\", \n",
    "                                 regex=True)\n",
    "infdeathscsv.columns=infdeathscsv.columns.str.replace(\"Entity\",\n",
    "                                                      \"Country\",\n",
    "                                                      regex=True)"
   ]
  },
  {
   "cell_type": "code",
   "execution_count": null,
   "id": "acb5fe5f",
   "metadata": {},
   "outputs": [],
   "source": [
    "infdeathscsv.columns"
   ]
  },
  {
   "cell_type": "code",
   "execution_count": null,
   "id": "0e759aee",
   "metadata": {},
   "outputs": [],
   "source": [
    "infdeathscsv=infdeathscsv.reset_index(drop=True)\n",
    "infdeathscsv.head()"
   ]
  },
  {
   "cell_type": "code",
   "execution_count": null,
   "id": "26762d47",
   "metadata": {},
   "outputs": [],
   "source": [
    "\" Afghanistan \".strip()"
   ]
  },
  {
   "cell_type": "code",
   "execution_count": null,
   "id": "f09b83d5",
   "metadata": {},
   "outputs": [],
   "source": [
    "infdeathscsv.iloc[:,:2]"
   ]
  },
  {
   "cell_type": "code",
   "execution_count": null,
   "id": "fd56e06f",
   "metadata": {},
   "outputs": [],
   "source": [
    "sanitationcsv.iloc[:,:2]"
   ]
  },
  {
   "cell_type": "code",
   "execution_count": null,
   "id": "451a1f77",
   "metadata": {},
   "outputs": [],
   "source": [
    "infdeathscsv.iloc[:,1]"
   ]
  },
  {
   "cell_type": "code",
   "execution_count": null,
   "id": "24948207",
   "metadata": {},
   "outputs": [],
   "source": [
    "infdeathscsv.Year.value_counts()"
   ]
  },
  {
   "cell_type": "code",
   "execution_count": null,
   "id": "964a0317",
   "metadata": {},
   "outputs": [],
   "source": [
    "infdeathscsv.info()"
   ]
  },
  {
   "cell_type": "code",
   "execution_count": null,
   "id": "40db0989",
   "metadata": {},
   "outputs": [],
   "source": [
    "sanitationcsv.info()"
   ]
  },
  {
   "cell_type": "code",
   "execution_count": null,
   "id": "bccd6457",
   "metadata": {},
   "outputs": [],
   "source": [
    "humrightscsv.info()"
   ]
  }
 ],
 "metadata": {
  "kernelspec": {
   "display_name": "Python 3 (ipykernel)",
   "language": "python",
   "name": "python3"
  },
  "language_info": {
   "codemirror_mode": {
    "name": "ipython",
    "version": 3
   },
   "file_extension": ".py",
   "mimetype": "text/x-python",
   "name": "python",
   "nbconvert_exporter": "python",
   "pygments_lexer": "ipython3",
   "version": "3.9.13"
  }
 },
 "nbformat": 4,
 "nbformat_minor": 5
}
